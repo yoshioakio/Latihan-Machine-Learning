{
 "cells": [
  {
   "cell_type": "code",
   "execution_count": 3,
   "metadata": {},
   "outputs": [
    {
     "ename": "ModuleNotFoundError",
     "evalue": "No module named 'networkx'",
     "output_type": "error",
     "traceback": [
      "\u001b[1;31m---------------------------------------------------------------------------\u001b[0m",
      "\u001b[1;31mModuleNotFoundError\u001b[0m                       Traceback (most recent call last)",
      "Cell \u001b[1;32mIn[3], line 2\u001b[0m\n\u001b[0;32m      1\u001b[0m \u001b[38;5;28;01mimport\u001b[39;00m \u001b[38;5;21;01mmatplotlib\u001b[39;00m\u001b[38;5;21;01m.\u001b[39;00m\u001b[38;5;21;01mpyplot\u001b[39;00m \u001b[38;5;28;01mas\u001b[39;00m \u001b[38;5;21;01mplt\u001b[39;00m\n\u001b[1;32m----> 2\u001b[0m \u001b[38;5;28;01mimport\u001b[39;00m \u001b[38;5;21;01mnetworkx\u001b[39;00m \u001b[38;5;28;01mas\u001b[39;00m \u001b[38;5;21;01mnx\u001b[39;00m\n\u001b[0;32m      4\u001b[0m \u001b[38;5;66;03m# Data dari user\u001b[39;00m\n\u001b[0;32m      5\u001b[0m tasks \u001b[38;5;241m=\u001b[39m [\n\u001b[0;32m      6\u001b[0m     {\u001b[38;5;124m\"\u001b[39m\u001b[38;5;124mname\u001b[39m\u001b[38;5;124m\"\u001b[39m: \u001b[38;5;124m\"\u001b[39m\u001b[38;5;124mPenentuan Kebutuhan Pelanggan\u001b[39m\u001b[38;5;124m\"\u001b[39m, \u001b[38;5;124m\"\u001b[39m\u001b[38;5;124mduration\u001b[39m\u001b[38;5;124m\"\u001b[39m: \u001b[38;5;241m5\u001b[39m, \u001b[38;5;124m\"\u001b[39m\u001b[38;5;124mstart\u001b[39m\u001b[38;5;124m\"\u001b[39m: \u001b[38;5;124m\"\u001b[39m\u001b[38;5;124m08/05/2024\u001b[39m\u001b[38;5;124m\"\u001b[39m, \u001b[38;5;124m\"\u001b[39m\u001b[38;5;124mfinish\u001b[39m\u001b[38;5;124m\"\u001b[39m: \u001b[38;5;124m\"\u001b[39m\u001b[38;5;124m13/05/2024\u001b[39m\u001b[38;5;124m\"\u001b[39m},\n\u001b[0;32m      7\u001b[0m     {\u001b[38;5;124m\"\u001b[39m\u001b[38;5;124mname\u001b[39m\u001b[38;5;124m\"\u001b[39m: \u001b[38;5;124m\"\u001b[39m\u001b[38;5;124mAnalisis Persaingan\u001b[39m\u001b[38;5;124m\"\u001b[39m, \u001b[38;5;124m\"\u001b[39m\u001b[38;5;124mduration\u001b[39m\u001b[38;5;124m\"\u001b[39m: \u001b[38;5;241m5\u001b[39m, \u001b[38;5;124m\"\u001b[39m\u001b[38;5;124mstart\u001b[39m\u001b[38;5;124m\"\u001b[39m: \u001b[38;5;124m\"\u001b[39m\u001b[38;5;124m13/05/2024\u001b[39m\u001b[38;5;124m\"\u001b[39m, \u001b[38;5;124m\"\u001b[39m\u001b[38;5;124mfinish\u001b[39m\u001b[38;5;124m\"\u001b[39m: \u001b[38;5;124m\"\u001b[39m\u001b[38;5;124m18/05/2024\u001b[39m\u001b[38;5;124m\"\u001b[39m},\n\u001b[1;32m   (...)\u001b[0m\n\u001b[0;32m     22\u001b[0m     {\u001b[38;5;124m\"\u001b[39m\u001b[38;5;124mname\u001b[39m\u001b[38;5;124m\"\u001b[39m: \u001b[38;5;124m\"\u001b[39m\u001b[38;5;124mDOkumentasi Teknis\u001b[39m\u001b[38;5;124m\"\u001b[39m, \u001b[38;5;124m\"\u001b[39m\u001b[38;5;124mduration\u001b[39m\u001b[38;5;124m\"\u001b[39m: \u001b[38;5;241m3\u001b[39m, \u001b[38;5;124m\"\u001b[39m\u001b[38;5;124mstart\u001b[39m\u001b[38;5;124m\"\u001b[39m: \u001b[38;5;124m\"\u001b[39m\u001b[38;5;124m19/08/2024\u001b[39m\u001b[38;5;124m\"\u001b[39m, \u001b[38;5;124m\"\u001b[39m\u001b[38;5;124mfinish\u001b[39m\u001b[38;5;124m\"\u001b[39m: \u001b[38;5;124m\"\u001b[39m\u001b[38;5;124m22/08/2024\u001b[39m\u001b[38;5;124m\"\u001b[39m}\n\u001b[0;32m     23\u001b[0m ]\n",
      "\u001b[1;31mModuleNotFoundError\u001b[0m: No module named 'networkx'"
     ]
    }
   ],
   "source": [
    "import matplotlib.pyplot as plt\n",
    "import network as nx\n",
    "\n",
    "# Data dari user\n",
    "tasks = [\n",
    "    {\"name\": \"Penentuan Kebutuhan Pelanggan\", \"duration\": 5, \"start\": \"08/05/2024\", \"finish\": \"13/05/2024\"},\n",
    "    {\"name\": \"Analisis Persaingan\", \"duration\": 5, \"start\": \"13/05/2024\", \"finish\": \"18/05/2024\"},\n",
    "    {\"name\": \"Penyusunan Rencana Proyek\", \"duration\": 4, \"start\": \"18/05/2024\", \"finish\": \"22/05/2024\"},\n",
    "    {\"name\": \"Pemetaan Pemngalaman Pengguna\", \"duration\": 7, \"start\": \"23/05/2024\", \"finish\": \"30/05/2024\"},\n",
    "    {\"name\": \"Desain Antarmuka Pengguna\", \"duration\": 7, \"start\": \"30/05/2024\", \"finish\": \"06/06/2024\"},\n",
    "    {\"name\": \"Prototipe Interaktif\", \"duration\": 7, \"start\": \"06/06/2024\", \"finish\": \"13/06/2024\"},\n",
    "    {\"name\": \"Pembangunan Backend\", \"duration\": 12, \"start\": \"14/06/2024\", \"finish\": \"26/06/2024\"},\n",
    "    {\"name\": \"Pembangunan Frontend\", \"duration\": 10, \"start\": \"26/06/2024\", \"finish\": \"06/07/2024\"},\n",
    "    {\"name\": \"Integrasi Sistem Pembayaran\", \"duration\": 5, \"start\": \"06/07/2024\", \"finish\": \"11/07/2024\"},\n",
    "    {\"name\": \"Pengujian Fungsional\", \"duration\": 7, \"start\": \"12/07/2024\", \"finish\": \"19/07/2024\"},\n",
    "    {\"name\": \"Pengujian Kinerja\", \"duration\": 5, \"start\": \"19/07/2024\", \"finish\": \"24/07/2024\"},\n",
    "    {\"name\": \"Pengujian pengguna akhir\", \"duration\": 5, \"start\": \"24/07/2024\", \"finish\": \"29/07/2024\"},\n",
    "    {\"name\": \"Implementasi Fitur Tambahan\", \"duration\": 5, \"start\": \"30/07/2024\", \"finish\": \"04/08/2024\"},\n",
    "    {\"name\": \"Pelatihan Pengguna\", \"duration\": 5, \"start\": \"05/08/2024\", \"finish\": \"10/08/2024\"},\n",
    "    {\"name\": \"Pelatihan Admin\", \"duration\": 3, \"start\": \"10/08/2024\", \"finish\": \"13/08/2024\"},\n",
    "    {\"name\": \"Dokumentasi pengguna\", \"duration\": 5, \"start\": \"14/08/2024\", \"finish\": \"19/08/2024\"},\n",
    "    {\"name\": \"DOkumentasi Teknis\", \"duration\": 3, \"start\": \"19/08/2024\", \"finish\": \"22/08/2024\"}\n",
    "]\n",
    "\n",
    "# Membuat Graph\n",
    "G = nx.DiGraph()\n",
    "\n",
    "# Menambahkan nodes dan edges ke graph\n",
    "for task in tasks:\n",
    "    G.add_node(task[\"name\"], duration=task[\"duration\"])\n",
    "    \n",
    "dependencies = [\n",
    "    (\"Penentuan Kebutuhan Pelanggan\", \"Analisis Persaingan\"),\n",
    "    (\"Analisis Persaingan\", \"Penyusunan Rencana Proyek\"),\n",
    "    (\"Penyusunan Rencana Proyek\", \"Pemetaan Pemngalaman Pengguna\"),\n",
    "    (\"Pemetaan Pemngalaman Pengguna\", \"Desain Antarmuka Pengguna\"),\n",
    "    (\"Desain Antarmuka Pengguna\", \"Prototipe Interaktif\"),\n",
    "    (\"Prototipe Interaktif\", \"Pembangunan Backend\"),\n",
    "    (\"Pembangunan Backend\", \"Pembangunan Frontend\"),\n",
    "    (\"Pembangunan Frontend\", \"Integrasi Sistem Pembayaran\"),\n",
    "    (\"Integrasi Sistem Pembayaran\", \"Pengujian Fungsional\"),\n",
    "    (\"Pengujian Fungsional\", \"Pengujian Kinerja\"),\n",
    "    (\"Pengujian Kinerja\", \"Pengujian pengguna akhir\"),\n",
    "    (\"Pengujian pengguna akhir\", \"Implementasi Fitur Tambahan\"),\n",
    "    (\"Implementasi Fitur Tambahan\", \"Pelatihan Pengguna\"),\n",
    "    (\"Pelatihan Pengguna\", \"Pelatihan Admin\"),\n",
    "    (\"Pelatihan Admin\", \"Dokumentasi pengguna\"),\n",
    "    (\"Dokumentasi pengguna\", \"DOkumentasi Teknis\")\n",
    "]\n",
    "\n",
    "G.add_edges_from(dependencies)\n",
    "\n",
    "# Posisi nodes\n",
    "pos = nx.spring_layout(G)\n",
    "\n",
    "# Plotting\n",
    "plt.figure(figsize=(15, 10))\n",
    "nx.draw(G, pos, with_labels=True, node_size=3000, node_color=\"skyblue\", font_size=10, font_weight=\"bold\", arrows=True, arrowsize=20)\n",
    "nx.draw_networkx_edge_labels(G, pos, edge_labels={(u, v): f\"{d} days\" for u, v, d in G.edges(data=\"duration\")})\n",
    "\n",
    "plt.title(\"Diagram Network Project\")\n",
    "plt.show()\n"
   ]
  }
 ],
 "metadata": {
  "kernelspec": {
   "display_name": "Python 3",
   "language": "python",
   "name": "python3"
  },
  "language_info": {
   "codemirror_mode": {
    "name": "ipython",
    "version": 3
   },
   "file_extension": ".py",
   "mimetype": "text/x-python",
   "name": "python",
   "nbconvert_exporter": "python",
   "pygments_lexer": "ipython3",
   "version": "3.12.4"
  }
 },
 "nbformat": 4,
 "nbformat_minor": 2
}
